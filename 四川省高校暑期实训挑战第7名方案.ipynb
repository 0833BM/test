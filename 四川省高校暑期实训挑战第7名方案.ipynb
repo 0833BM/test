{
 "cells": [
  {
   "cell_type": "markdown",
   "metadata": {
    "collapsed": false
   },
   "source": [
    "## 赛事介绍\n",
    "实时对战游戏是人工智能研究领域的一个热点。由于游戏复杂性、部分可观察和动态实时变化战局等游戏特点使得研究变得比较困难。我们可以在选择英雄阶段预测胜负概率，也可以在比赛期间根据比赛实时数据进行建模。那么我们英雄联盟对局进行期间，能知道自己的胜率吗？\n",
    "\n",
    "![](https://ai-studio-static-online.cdn.bcebos.com/9739d3ca3cef4e32989a541af450a9556e91bf89a4e946e0a856cc2424321638)\n",
    "\n",
    "\n",
    "## 赛事任务\n",
    "比赛数据使用了英雄联盟玩家的实时游戏数据，记录下用户在游戏中对局数据（如击杀数、住物理伤害）。希望参赛选手能从数据集中挖掘出数据的规律，并预测玩家在本局游戏中的输赢情况。\n",
    "\n",
    "赛题训练集案例如下：\n",
    "- 训练集18万数据；\n",
    "- 测试集2万条数据；\n",
    "\n",
    "```plain\n",
    "import pandas as pd\n",
    "import numpy as np\n",
    "\n",
    "train = pd.read_csv('train.csv.zip')\n",
    "```\n",
    "\n",
    "对于数据集中每一行为一个玩家的游戏数据，数据字段如下所示：\n",
    "\n",
    "* id：玩家记录id\n",
    "* win：是否胜利，标签变量\n",
    "* kills：击杀次数\n",
    "* deaths：死亡次数\n",
    "* assists：助攻次数\n",
    "* largestkillingspree：最大 killing spree（游戏术语，意味大杀特杀。当你连续杀死三个对方英雄而中途没有死亡时）\n",
    "* largestmultikill：最大mult ikill（游戏术语，短时间内多重击杀）\n",
    "* longesttimespentliving：最长存活时间\n",
    "* doublekills：doublekills次数\n",
    "* triplekills：doublekills次数\n",
    "* quadrakills：quadrakills次数\n",
    "* pentakills：pentakills次数\n",
    "* totdmgdealt：总伤害\n",
    "* magicdmgdealt：魔法伤害\n",
    "* physicaldmgdealt：物理伤害\n",
    "* truedmgdealt：真实伤害\n",
    "* largestcrit：最大暴击伤害\n",
    "* totdmgtochamp：对对方玩家的伤害\n",
    "* magicdmgtochamp：对对方玩家的魔法伤害\n",
    "* physdmgtochamp：对对方玩家的物理伤害\n",
    "* truedmgtochamp：对对方玩家的真实伤害\n",
    "* totheal：治疗量\n",
    "* totunitshealed：痊愈的总单位\n",
    "* dmgtoturrets：对炮塔的伤害\n",
    "* timecc：法控时间\n",
    "* totdmgtaken：承受的伤害\n",
    "* magicdmgtaken：承受的魔法伤害\n",
    "* physdmgtaken：承受的物理伤害\n",
    "* truedmgtaken：承受的真实伤害\n",
    "* wardsplaced：侦查守卫放置次数\n",
    "* wardskilled：侦查守卫摧毁次数\n",
    "* firstblood：是否为firstblood\n",
    "测试集中label字段win为空，需要选手预测。\n",
    "\n",
    "##  评审规则\n",
    "\n",
    "1. 数据说明\n",
    "\n",
    "选手需要提交测试集队伍排名预测，具体的提交格式如下：\n",
    "\n",
    "```plain\n",
    "win\n",
    "0\n",
    "1\n",
    "1\n",
    "0\n",
    "```\n",
    "\n",
    " 2. 评估指标\n",
    "\n",
    "本次竞赛的使用准确率进行评分，数值越高精度越高，评估代码参考：\n",
    "\n",
    "```\n",
    "from sklearn.metrics import accuracy_score\n",
    "y_pred = [0, 2, 1, 3]\n",
    "y_true = [0, 1, 2, 3]\n",
    "accuracy_score(y_true, y_pred)\n",
    "```"
   ]
  },
  {
   "cell_type": "markdown",
   "metadata": {
    "collapsed": false
   },
   "source": [
    "## Baseline使用指导\n",
    "1、点击‘fork按钮’，出现‘fork项目’弹窗         \n",
    "2、点击‘创建按钮’ ，出现‘运行项目’弹窗    \n",
    "3、点击‘运行项目’，自动跳转至新页面      \n",
    "4、点击‘启动环境’ ，出现‘选择运行环境’弹窗     \n",
    "5、选择运行环境（启动项目需要时间，请耐心等待），出现‘环境启动成功’弹窗，点击确定        \n",
    "6、点击进入环境，即可进入notebook环境      \n",
    "7、鼠标移至下方每个代码块内（代码块左侧边框会变成浅蓝色），再依次点击每个代码块左上角的‘三角形运行按钮’，待一个模块运行完以后再运行下一个模块，直至全部运行完成  \n",
    "![](https://ai-studio-static-online.cdn.bcebos.com/226c72f88f5b4e9d8a55e59129e4c79770aa200f10ef413ca1420ae7d273bc88)  \n",
    "![](https://ai-studio-static-online.cdn.bcebos.com/866a22a341d64166aaf9a8a3abee09b5a6e2d0cba1c649bb8bdef6b2ad7955f1)  \n",
    "8、下载页面左侧submission.zip压缩包  \n",
    "![](https://ai-studio-static-online.cdn.bcebos.com/b7f3076301e34462abaf2013dcdbf10a5dcbfe287d5845f1869493e578391f7a)  \n",
    "9、在比赛页提交submission.zip压缩包，等待系统评测结束后，即可登榜！    \n",
    "![](https://ai-studio-static-online.cdn.bcebos.com/95a9fc4140144a2d8a76258f7a536751c5c6969994154d3da71c80e23757c6c8)  \n",
    "10、点击页面左侧‘版本-生成新版本’  \n",
    "![](https://ai-studio-static-online.cdn.bcebos.com/e62d0f5ca1454f7485c3eb1351823315480356cafad143c2ab2ff065f95104fe)  \n",
    "11、填写‘版本名称’，点击‘生成版本按钮’，即可在个人主页查看到该项目（可选择公开此项目哦）  "
   ]
  },
  {
   "cell_type": "code",
   "execution_count": null,
   "metadata": {
    "collapsed": false
   },
   "outputs": [
    {
     "name": "stderr",
     "output_type": "stream",
     "text": [
      "/opt/conda/envs/python35-paddle120-env/lib/python3.7/site-packages/matplotlib/__init__.py:107: DeprecationWarning: Using or importing the ABCs from 'collections' instead of from 'collections.abc' is deprecated, and in 3.8 it will stop working\n",
      "  from collections import MutableMapping\n",
      "/opt/conda/envs/python35-paddle120-env/lib/python3.7/site-packages/matplotlib/rcsetup.py:20: DeprecationWarning: Using or importing the ABCs from 'collections' instead of from 'collections.abc' is deprecated, and in 3.8 it will stop working\n",
      "  from collections import Iterable, Mapping\n",
      "/opt/conda/envs/python35-paddle120-env/lib/python3.7/site-packages/matplotlib/colors.py:53: DeprecationWarning: Using or importing the ABCs from 'collections' instead of from 'collections.abc' is deprecated, and in 3.8 it will stop working\n",
      "  from collections import Sized\n"
     ]
    },
    {
     "name": "stdout",
     "output_type": "stream",
     "text": [
      "Populating the interactive namespace from numpy and matplotlib\n"
     ]
    }
   ],
   "source": [
    "import pandas as pd\n",
    "import paddle\n",
    "import numpy as np\n",
    "%pylab inline\n",
    "import seaborn as sns\n",
    "\n",
    "train_df = pd.read_csv('data/data137276/train.csv.zip')\n",
    "test_df = pd.read_csv('data/data137276/test.csv.zip')\n",
    "\n",
    "train_df = train_df.drop(['id', 'timecc'], axis=1)\n",
    "test_df = test_df.drop(['id', 'timecc'], axis=1)"
   ]
  },
  {
   "cell_type": "markdown",
   "metadata": {
    "collapsed": false
   },
   "source": [
    "## 数据分析"
   ]
  },
  {
   "cell_type": "code",
   "execution_count": null,
   "metadata": {
    "collapsed": false
   },
   "outputs": [
    {
     "data": {
      "text/plain": [
       "win                       0.0\n",
       "kills                     0.0\n",
       "deaths                    0.0\n",
       "assists                   0.0\n",
       "largestkillingspree       0.0\n",
       "largestmultikill          0.0\n",
       "longesttimespentliving    0.0\n",
       "doublekills               0.0\n",
       "triplekills               0.0\n",
       "quadrakills               0.0\n",
       "pentakills                0.0\n",
       "totdmgdealt               0.0\n",
       "magicdmgdealt             0.0\n",
       "physicaldmgdealt          0.0\n",
       "truedmgdealt              0.0\n",
       "largestcrit               0.0\n",
       "totdmgtochamp             0.0\n",
       "magicdmgtochamp           0.0\n",
       "physdmgtochamp            0.0\n",
       "truedmgtochamp            0.0\n",
       "totheal                   0.0\n",
       "totunitshealed            0.0\n",
       "dmgtoturrets              0.0\n",
       "totdmgtaken               0.0\n",
       "magicdmgtaken             0.0\n",
       "physdmgtaken              0.0\n",
       "truedmgtaken              0.0\n",
       "wardsplaced               0.0\n",
       "wardskilled               0.0\n",
       "firstblood                0.0\n",
       "dtype: float64"
      ]
     },
     "execution_count": null,
     "metadata": {},
     "output_type": "execute_result"
    }
   ],
   "source": [
    "train_df.isnull().mean(0)"
   ]
  },
  {
   "cell_type": "code",
   "execution_count": null,
   "metadata": {
    "collapsed": false
   },
   "outputs": [
    {
     "name": "stderr",
     "output_type": "stream",
     "text": [
      "/opt/conda/envs/python35-paddle120-env/lib/python3.7/site-packages/matplotlib/cbook/__init__.py:2349: DeprecationWarning: Using or importing the ABCs from 'collections' instead of from 'collections.abc' is deprecated, and in 3.8 it will stop working\n",
      "  if isinstance(obj, collections.Iterator):\n",
      "/opt/conda/envs/python35-paddle120-env/lib/python3.7/site-packages/matplotlib/cbook/__init__.py:2366: DeprecationWarning: Using or importing the ABCs from 'collections' instead of from 'collections.abc' is deprecated, and in 3.8 it will stop working\n",
      "  return list(data) if isinstance(data, collections.MappingView) else data\n"
     ]
    },
    {
     "data": {
      "text/plain": [
       "<matplotlib.axes._subplots.AxesSubplot at 0x7fb102044350>"
      ]
     },
     "execution_count": null,
     "metadata": {},
     "output_type": "execute_result"
    },
    {
     "data": {
      "image/png": "[encoded data removed]",
      "text/plain": [
       "<Figure size 432x288 with 1 Axes>"
      ]
     },
     "metadata": {},
     "output_type": "display_data"
    }
   ],
   "source": [
    "train_df['win'].value_counts().plot(kind='bar')"
   ]
  },
  {
   "cell_type": "code",
   "execution_count": null,
   "metadata": {
    "collapsed": false
   },
   "outputs": [
    {
     "data": {
      "text/plain": [
       "<matplotlib.axes._subplots.AxesSubplot at 0x7fb0f5816f50>"
      ]
     },
     "execution_count": null,
     "metadata": {},
     "output_type": "execute_result"
    },
    {
     "data": {
      "image/png": "[encoded data removed]",
      "text/plain": [
       "<Figure size 432x288 with 1 Axes>"
      ]
     },
     "metadata": {},
     "output_type": "display_data"
    }
   ],
   "source": [
    "sns.distplot(train_df['kills'])"
   ]
  },
  {
   "cell_type": "code",
   "execution_count": null,
   "metadata": {
    "collapsed": false
   },
   "outputs": [
    {
     "data": {
      "text/plain": [
       "<matplotlib.axes._subplots.AxesSubplot at 0x7fb0ebf35d90>"
      ]
     },
     "execution_count": null,
     "metadata": {},
     "output_type": "execute_result"
    },
    {
     "data": {
      "image/png": "[encoded data removed]",
      "text/plain": [
       "<Figure size 432x288 with 1 Axes>"
      ]
     },
     "metadata": {},
     "output_type": "display_data"
    }
   ],
   "source": [
    "sns.distplot(train_df['deaths'])"
   ]
  },
  {
   "cell_type": "code",
   "execution_count": null,
   "metadata": {
    "collapsed": false
   },
   "outputs": [
    {
     "data": {
      "text/plain": [
       "<matplotlib.axes._subplots.AxesSubplot at 0x7fb0ebf5ae10>"
      ]
     },
     "execution_count": null,
     "metadata": {},
     "output_type": "execute_result"
    },
    {
     "data": {
      "image/png": "[encoded data removed]",
      "text/plain": [
       "<Figure size 432x288 with 1 Axes>"
      ]
     },
     "metadata": {},
     "output_type": "display_data"
    }
   ],
   "source": [
    "sns.boxplot(y='kills', x='win', data=train_df)"
   ]
  },
  {
   "cell_type": "code",
   "execution_count": null,
   "metadata": {
    "collapsed": false
   },
   "outputs": [
    {
     "data": {
      "text/plain": [
       "Text(0,0.5,'deaths')"
      ]
     },
     "execution_count": null,
     "metadata": {},
     "output_type": "execute_result"
    },
    {
     "data": {
      "image/png": "[encoded data removed]",
      "text/plain": [
       "<Figure size 432x288 with 1 Axes>"
      ]
     },
     "metadata": {},
     "output_type": "display_data"
    }
   ],
   "source": [
    "plt.scatter(train_df['kills'], train_df['deaths'])\n",
    "plt.xlabel('kills')\n",
    "plt.ylabel('deaths')"
   ]
  },
  {
   "cell_type": "code",
   "execution_count": null,
   "metadata": {
    "collapsed": false
   },
   "outputs": [],
   "source": [
    "for col in train_df.columns[1:]:\n",
    "    train_df[col] /= train_df[col].max()\n",
    "    test_df[col] /= test_df[col].max()"
   ]
  },
  {
   "cell_type": "markdown",
   "metadata": {
    "collapsed": false
   },
   "source": [
    "## 搭建模型"
   ]
  },
  {
   "cell_type": "code",
   "execution_count": null,
   "metadata": {
    "collapsed": false
   },
   "outputs": [],
   "source": [
    "class Classifier(paddle.nn.Layer):\n",
    "    # self代表类的实例自身\n",
    "    def __init__(self):\n",
    "        # 初始化父类中的一些参数\n",
    "        super(Classifier, self).__init__()\n",
    "        \n",
    "        self.fc1 = paddle.nn.Linear(in_features=29, out_features=40)\n",
    "        self.fc2 = paddle.nn.Linear(in_features=40, out_features=1)\n",
    "        self.relu = paddle.nn.ReLU()\n",
    "    \n",
    "    # 网络的前向计算\n",
    "    def forward(self, inputs):\n",
    "        x = self.relu(self.fc1(inputs))\n",
    "        x = self.fc2(x)\n",
    "        return x"
   ]
  },
  {
   "cell_type": "code",
   "execution_count": null,
   "metadata": {
    "collapsed": false
   },
   "outputs": [],
   "source": [
    "model = Classifier()\n",
    "model.train()\n",
    "opt = paddle.optimizer.SGD(learning_rate=0.01, parameters=model.parameters())\n",
    "loss_fn = paddle.nn.BCEWithLogitsLoss()"
   ]
  },
  {
   "cell_type": "code",
   "execution_count": 11,
   "metadata": {
    "collapsed": false
   },
   "outputs": [
    {
     "name": "stdout",
     "output_type": "stream",
     "text": [
      "epoch: 0, iter: 0, loss is: [0.5898021], acc is [0.75]\n",
      "epoch: 0, iter: 200, loss is: [0.5745978], acc is [0.75]\n",
      "epoch: 0, iter: 400, loss is: [0.49215916], acc is [0.81666667]\n",
      "epoch: 0, iter: 600, loss is: [0.5647727], acc is [0.66666667]\n",
      "epoch: 0, iter: 800, loss is: [0.5513699], acc is [0.76666667]\n",
      "epoch: 0, iter: 1000, loss is: [0.58749366], acc is [0.65]\n",
      "epoch: 0, iter: 1200, loss is: [0.5327098], acc is [0.73333333]\n",
      "epoch: 0, iter: 1400, loss is: [0.5077092], acc is [0.78333333]\n",
      "epoch: 0, iter: 1600, loss is: [0.5345815], acc is [0.73333333]\n",
      "epoch: 0, iter: 1800, loss is: [0.5792941], acc is [0.71666667]\n",
      "epoch: 0, iter: 2000, loss is: [0.4345431], acc is [0.86666667]\n",
      "epoch: 0, iter: 2200, loss is: [0.4877691], acc is [0.81666667]\n",
      "epoch: 0, iter: 2400, loss is: [0.4588496], acc is [0.81666667]\n",
      "epoch: 0, iter: 2600, loss is: [0.5140998], acc is [0.83333333]\n",
      "epoch: 0, iter: 2800, loss is: [0.52586335], acc is [0.68333333]\n"
     ]
    }
   ],
   "source": [
    "EPOCH_NUM = 196   # 设置外层循环次数\n",
    "BATCH_SIZE = 60  # 设置batch大小\n",
    "training_data = train_df.iloc[:-1000,].values.astype(np.float32)\n",
    "val_data = train_df.iloc[-1000:, ].values.astype(np.float32)\n",
    "\n",
    "# 定义外层循环\n",
    "for epoch_id in range(EPOCH_NUM):\n",
    "    # 在每轮迭代开始之前，将训练数据的顺序随机的打乱\n",
    "    \n",
    "    np.random.shuffle(training_data)\n",
    "    \n",
    "    # 将训练数据进行拆分，每个batch包含10条数据\n",
    "    mini_batches = [training_data[k:k+BATCH_SIZE] for k in range(0, len(training_data), BATCH_SIZE)]\n",
    "    \n",
    "    # 定义内层循环\n",
    "    for iter_id, mini_batch in enumerate(mini_batches):\n",
    "        x = np.array(mini_batch[:, 1:]) # 获得当前批次训练数据\n",
    "        y = np.array(mini_batch[:, :1]) # 获得当前批次训练标签\n",
    "        \n",
    "        # 将numpy数据转为飞桨动态图tensor的格式\n",
    "        features = paddle.to_tensor(x)\n",
    "        y = paddle.to_tensor(y)\n",
    "        \n",
    "        # 前向计算\n",
    "        predicts = model(features)\n",
    "        \n",
    "        # 计算损失\n",
    "        loss = loss_fn(predicts, y, )\n",
    "        avg_loss = paddle.mean(loss)\n",
    "        if iter_id%200==0:\n",
    "            acc = (predicts > 0).astype(int).flatten() == y.flatten().astype(int)\n",
    "            acc = acc.astype(float).mean()\n",
    "\n",
    "            print(\"epoch: {}, iter: {}, loss is: {}, acc is {}\".format(epoch_id, iter_id, avg_loss.numpy(), acc.numpy()))\n",
    "        \n",
    "        # 反向传播，计算每层参数的梯度值\n",
    "        avg_loss.backward()\n",
    "        # 更新参数，根据设置好的学习率迭代一步\n",
    "        opt.step()\n",
    "        # 清空梯度变量，以备下一轮计算\n",
    "        opt.clear_grad()"
   ]
  },
  {
   "cell_type": "code",
   "execution_count": null,
   "metadata": {
    "collapsed": false
   },
   "outputs": [],
   "source": [
    "model.eval()\n",
    "test_data = paddle.to_tensor(test_df.values.astype(np.float32))\n",
    "test_predict = model(test_data)\n",
    "test_predict = (test_predict > 0).astype(int).flatten()"
   ]
  },
  {
   "cell_type": "code",
   "execution_count": null,
   "metadata": {
    "collapsed": false
   },
   "outputs": [
    {
     "name": "stdout",
     "output_type": "stream",
     "text": [
      "updating: submission.csv (deflated 90%)\r\n"
     ]
    }
   ],
   "source": [
    "pd.DataFrame({'win':\n",
    "              test_predict.numpy()\n",
    "             }).to_csv('submission.csv', index=None)\n",
    "\n",
    "!zip submission.zip submission.csv"
   ]
  },
  {
   "cell_type": "markdown",
   "metadata": {
    "collapsed": false
   },
   "source": [
    "## 总结与上分点\n",
    "\n",
    "1. 原始赛题字段存在关联，可以进一步提取交叉特征。\n",
    "2. 模型训练过程中可以加入验证集验证过程。"
   ]
  },
  {
   "cell_type": "code",
   "execution_count": null,
   "metadata": {
    "collapsed": false
   },
   "outputs": [],
   "source": []
  }
 ],
 "metadata": {
  "kernelspec": {
   "display_name": "Python 3",
   "language": "python",
   "name": "py35-paddle1.2.0"
  },
  "language_info": {
   "codemirror_mode": {
    "name": "ipython",
    "version": 3
   },
   "file_extension": ".py",
   "mimetype": "text/x-python",
   "name": "python",
   "nbconvert_exporter": "python",
   "pygments_lexer": "ipython3",
   "version": "3.7.4"
  }
 },
 "nbformat": 4,
 "nbformat_minor": 1
}
